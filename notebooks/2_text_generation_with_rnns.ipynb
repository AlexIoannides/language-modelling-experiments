{
 "cells": [
  {
   "attachments": {},
   "cell_type": "markdown",
   "metadata": {},
   "source": [
    "# Text Generation with RNNs\n",
    "\n",
    "In this notebook we use the components developed in `modelling.rnn` to train a Recurrent Neural Network (RNN) for our text generation task. RNNs are easier to train than models based on transformers and can such serve as a useful benchmark."
   ]
  },
  {
   "attachments": {},
   "cell_type": "markdown",
   "metadata": {},
   "source": [
    "## Imports\n",
    "\n",
    "The bulk of the code required to setup, train and generate new text from the model, is contained within `modelling.rnn` (check the source code for the details). We import this module together with others that serve the training data and manage model persistence."
   ]
  },
  {
   "cell_type": "code",
   "execution_count": 2,
   "metadata": {},
   "outputs": [],
   "source": [
    "from textwrap import wrap\n",
    "\n",
    "from torch.utils.data import DataLoader\n",
    "\n",
    "from modelling import data as data\n",
    "from modelling import rnn as rnn\n",
    "from modelling import utils as utils"
   ]
  },
  {
   "attachments": {},
   "cell_type": "markdown",
   "metadata": {},
   "source": [
    "## Model and Training Parameters\n",
    "\n",
    "Configure hyper-parameters for the model and the training routine."
   ]
  },
  {
   "cell_type": "code",
   "execution_count": 4,
   "metadata": {},
   "outputs": [],
   "source": [
    "MODEL_NAME = \"lstm_next_word_gen\"\n",
    "\n",
    "SIZE_EMBED = 256\n",
    "SIZE_HIDDEN = 512\n",
    "\n",
    "N_EPOCHS = 20\n",
    "BATCH_SIZE = 256\n",
    "SEQ_LEN = 40\n",
    "MIN_WORD_FREQ = 2\n",
    "LEARNING_RATE = 0.005"
   ]
  },
  {
   "attachments": {},
   "cell_type": "markdown",
   "metadata": {},
   "source": [
    "## Setup Training Data"
   ]
  },
  {
   "cell_type": "code",
   "execution_count": 7,
   "metadata": {},
   "outputs": [],
   "source": [
    "datasets = data.make_sequence_datasets(seq_len=SEQ_LEN, min_word_freq=MIN_WORD_FREQ)\n",
    "\n",
    "data_loader = DataLoader(\n",
    "    datasets.train_data,\n",
    "    batch_size=BATCH_SIZE,\n",
    "    shuffle=True,\n",
    "    drop_last=True,\n",
    "    collate_fn=data.pad_seq2seq_data\n",
    ")"
   ]
  },
  {
   "attachments": {},
   "cell_type": "markdown",
   "metadata": {},
   "source": [
    "## Instantiate Model"
   ]
  },
  {
   "cell_type": "code",
   "execution_count": 4,
   "metadata": {},
   "outputs": [
    {
     "data": {
      "text/plain": [
       "NextWordPredictionRNN(\n",
       "  (_embedding): Embedding(53054, 256)\n",
       "  (_lstm): LSTM(256, 512, batch_first=True)\n",
       "  (_linear): Linear(in_features=512, out_features=53054, bias=True)\n",
       ")"
      ]
     },
     "execution_count": 4,
     "metadata": {},
     "output_type": "execute_result"
    }
   ],
   "source": [
    "model = rnn.NextWordPredictionRNN(datasets.tokenizer.vocab_size, SIZE_EMBED, SIZE_HIDDEN)\n",
    "model"
   ]
  },
  {
   "attachments": {},
   "cell_type": "markdown",
   "metadata": {},
   "source": [
    "This is a simple one layer LSTM that works on sequences of token embeddings that are learnt concurrently with the rest of the model. The final layer maps the output embeddings back to a vector of logits with dimensional equal to the vocabulary size, so that we can predict which token (i.e, category) the next word in the sequence belongs to."
   ]
  },
  {
   "attachments": {},
   "cell_type": "markdown",
   "metadata": {},
   "source": [
    "## Train"
   ]
  },
  {
   "cell_type": "code",
   "execution_count": 5,
   "metadata": {},
   "outputs": [
    {
     "name": "stderr",
     "output_type": "stream",
     "text": [
      "epoch 1 current loss = 5.7833: 100%|██████████| 124/124 [01:57<00:00,  1.05it/s]\n",
      "epoch 2 current loss = 5.4837: 100%|██████████| 124/124 [01:57<00:00,  1.05it/s]\n",
      "epoch 3 current loss = 5.2626: 100%|██████████| 124/124 [01:57<00:00,  1.05it/s]\n",
      "epoch 4 current loss = 5.1370: 100%|██████████| 124/124 [01:57<00:00,  1.05it/s]\n",
      "epoch 5 current loss = 5.1246: 100%|██████████| 124/124 [01:57<00:00,  1.05it/s]\n",
      "epoch 6 current loss = 5.0007: 100%|██████████| 124/124 [01:57<00:00,  1.05it/s]\n",
      "epoch 7 current loss = 4.8840: 100%|██████████| 124/124 [01:57<00:00,  1.05it/s]\n",
      "epoch 8 current loss = 4.8399: 100%|██████████| 124/124 [01:57<00:00,  1.05it/s]\n",
      "epoch 9 current loss = 4.8367: 100%|██████████| 124/124 [01:57<00:00,  1.05it/s]\n",
      "epoch 10 current loss = 4.7317: 100%|██████████| 124/124 [01:57<00:00,  1.05it/s]\n",
      "epoch 11 current loss = 4.6665: 100%|██████████| 124/124 [01:57<00:00,  1.05it/s]\n",
      "epoch 12 current loss = 4.6188: 100%|██████████| 124/124 [01:57<00:00,  1.05it/s]\n",
      "epoch 13 current loss = 4.5613: 100%|██████████| 124/124 [01:57<00:00,  1.05it/s]\n",
      "epoch 14 current loss = 4.5602: 100%|██████████| 124/124 [01:57<00:00,  1.05it/s]\n",
      "epoch 15 current loss = 4.4376: 100%|██████████| 124/124 [01:57<00:00,  1.05it/s]\n",
      "epoch 16 current loss = 4.5556: 100%|██████████| 124/124 [01:57<00:00,  1.06it/s]\n",
      "epoch 17 current loss = 4.4079: 100%|██████████| 124/124 [01:57<00:00,  1.05it/s]\n",
      "epoch 18 current loss = 4.4366: 100%|██████████| 124/124 [01:57<00:00,  1.05it/s]\n",
      "epoch 19 current loss = 4.4274: 100%|██████████| 124/124 [01:57<00:00,  1.05it/s]\n",
      "epoch 20 current loss = 4.4202: 100%|██████████| 124/124 [01:57<00:00,  1.05it/s]\n"
     ]
    },
    {
     "name": "stdout",
     "output_type": "stream",
     "text": [
      "\n",
      "best model:\n",
      "|-- epoch: 17\n",
      "|-- loss: 4.4079\n"
     ]
    }
   ],
   "source": [
    "train_losses = rnn.train(model, data_loader, N_EPOCHS, LEARNING_RATE)\n",
    "utils.save_model(model, name=MODEL_NAME, loss=min(train_losses.values()))"
   ]
  },
  {
   "cell_type": "code",
   "execution_count": 6,
   "metadata": {},
   "outputs": [
    {
     "data": {
      "image/png": "[encoded data removed]",
      "text/plain": [
       "<Figure size 640x480 with 1 Axes>"
      ]
     },
     "metadata": {},
     "output_type": "display_data"
    }
   ],
   "source": [
    "utils.plot_train_losses(train_losses)"
   ]
  },
  {
   "attachments": {},
   "cell_type": "markdown",
   "metadata": {},
   "source": [
    "## Generate Text with Model"
   ]
  },
  {
   "attachments": {},
   "cell_type": "markdown",
   "metadata": {},
   "source": [
    "Start by loading a model and instantiating a tokeniser that can also map from tokens back to text. The `load_model` function will load the best performing model that has been persisted on the local filesystem."
   ]
  },
  {
   "cell_type": "code",
   "execution_count": 5,
   "metadata": {},
   "outputs": [
    {
     "name": "stdout",
     "output_type": "stream",
     "text": [
      "loading .models/lstm_next_word_gen/trained@2023-07-10T21:21:39;loss=4_4079.pt\n"
     ]
    }
   ],
   "source": [
    "best_model: rnn.NextWordPredictionRNN = utils.load_model(MODEL_NAME)"
   ]
  },
  {
   "attachments": {},
   "cell_type": "markdown",
   "metadata": {},
   "source": [
    "Now pass a prompt to the model and get it to generate the text that comes after."
   ]
  },
  {
   "cell_type": "code",
   "execution_count": 15,
   "metadata": {},
   "outputs": [
    {
     "name": "stdout",
     "output_type": "stream",
     "text": [
      "==> I THOUGHT THIS MOVIE WAS INTERESTING, BUT it was one of the worst movies i have ever\n",
      "seen and my mother right have remarkable giant what a stars surrounding between it a\n",
      "leave. This is early a martin laughing may. Before reason movie this film is that\n",
      "mistakes argento your a cast killed high of nasty into the will envision and fuji the\n",
      "wishes and...\n"
     ]
    }
   ],
   "source": [
    "prompt = \"I thought this movie was interesting, but\"\n",
    "text = rnn.generate(best_model, prompt, datasets.tokenizer, temperature=1.0)\n",
    "\n",
    "for line in wrap(text, width=89):\n",
    "    print(line)"
   ]
  },
  {
   "attachments": {},
   "cell_type": "markdown",
   "metadata": {},
   "source": [
    "And compare this output with that from an untrained model."
   ]
  },
  {
   "cell_type": "code",
   "execution_count": 14,
   "metadata": {},
   "outputs": [
    {
     "name": "stdout",
     "output_type": "stream",
     "text": [
      "==> I THOUGHT THIS MOVIE WAS krypton mame sighed ter stuffing washboard fortuitously\n",
      "nitric unsatisfactorily airforce haze devils hosseini rule topples hypothetically howe\n",
      "choked pub autism presently yield muggers sparking tinned boatloads nursery möhner\n",
      "hungering greater girlhood pineapple donahue freshman mackay salvages diaphanous banded\n",
      "spiraled scathing swardson obscenely minstrels lithium anatomical racket atheist aunty\n",
      "jafa siphon gloster victimizer rahmer overdressed autopilot recognize peeved clog\n",
      "recreates bfi...\n"
     ]
    }
   ],
   "source": [
    "untrained_model = rnn.NextWordPredictionRNN(\n",
    "    datasets.tokenizer.vocab_size, SIZE_EMBED, SIZE_HIDDEN\n",
    ")\n",
    "\n",
    "text = rnn.generate(untrained_model, prompt, datasets.tokenizer, temperature=1.0)\n",
    "\n",
    "for line in wrap(text, width=89):\n",
    "    print(line)"
   ]
  }
 ],
 "metadata": {
  "kernelspec": {
   "display_name": ".venv",
   "language": "python",
   "name": "python3"
  },
  "language_info": {
   "codemirror_mode": {
    "name": "ipython",
    "version": 3
   },
   "file_extension": ".py",
   "mimetype": "text/x-python",
   "name": "python",
   "nbconvert_exporter": "python",
   "pygments_lexer": "ipython3",
   "version": "3.10.2"
  },
  "orig_nbformat": 4
 },
 "nbformat": 4,
 "nbformat_minor": 2
}
